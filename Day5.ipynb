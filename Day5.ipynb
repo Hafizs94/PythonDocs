{
 "cells": [
  {
   "cell_type": "code",
   "execution_count": 1,
   "metadata": {},
   "outputs": [],
   "source": [
    "bank_customers = ['naveen','ram','karthik','samia','surya','vandana','anushka']"
   ]
  },
  {
   "cell_type": "code",
   "execution_count": 3,
   "metadata": {},
   "outputs": [
    {
     "name": "stdout",
     "output_type": "stream",
     "text": [
      "wish you a very happy new yeat, naveen\n",
      "wish you a very happy new yeat, ram\n"
     ]
    }
   ],
   "source": [
    "# req: to gree the customers on a new year.\n",
    "print(f\"wish you a very happy new yeat, {bank_customers[0]}\")\n",
    "print(f\"wish you a very happy new yeat, {bank_customers[1]}\")"
   ]
  },
  {
   "cell_type": "code",
   "execution_count": 5,
   "metadata": {},
   "outputs": [
    {
     "name": "stdout",
     "output_type": "stream",
     "text": [
      "wish you a very happy new yeat, naveen\n",
      "wish you a very happy new yeat, ram\n",
      "wish you a very happy new yeat, karthik\n",
      "wish you a very happy new yeat, samia\n",
      "wish you a very happy new yeat, surya\n",
      "wish you a very happy new yeat, vandana\n",
      "wish you a very happy new yeat, anushka\n"
     ]
    }
   ],
   "source": [
    "for customer in bank_customers:\n",
    "    print(f\"wish you a very happy new yeat, {customer}\")"
   ]
  },
  {
   "cell_type": "code",
   "execution_count": 6,
   "metadata": {},
   "outputs": [],
   "source": [
    "students = ['suman','keerthi','yasmeen','ravi','john','praveen','sajid']"
   ]
  },
  {
   "cell_type": "code",
   "execution_count": 7,
   "metadata": {},
   "outputs": [
    {
     "name": "stdout",
     "output_type": "stream",
     "text": [
      "Keep up the good work ,suman\n",
      "Keep up the good work ,keerthi\n",
      "Keep up the good work ,yasmeen\n",
      "Keep up the good work ,ravi\n",
      "Keep up the good work ,john\n",
      "Keep up the good work ,praveen\n",
      "Keep up the good work ,sajid\n"
     ]
    }
   ],
   "source": [
    "# req: to appreciate the students.\n",
    "for x in students:\n",
    "    print(f\"Keep up the good work ,{x}\")"
   ]
  },
  {
   "cell_type": "code",
   "execution_count": 8,
   "metadata": {},
   "outputs": [
    {
     "name": "stdout",
     "output_type": "stream",
     "text": [
      "Keep up the good work, suman.\n",
      "Keep up the good work, keerthi.\n",
      "Keep up the good work, yasmeen.\n",
      "Keep up the good work, ravi.\n",
      "Keep up the good work, john.\n",
      "Keep up the good work, praveen.\n",
      "Keep up the good work, sajid.\n"
     ]
    }
   ],
   "source": [
    "# req: to appreciate the students.\n",
    "\n",
    "for x in students:\n",
    "    print(f\"Keep up the good work, {x}.\")"
   ]
  },
  {
   "cell_type": "code",
   "execution_count": 9,
   "metadata": {},
   "outputs": [
    {
     "name": "stdout",
     "output_type": "stream",
     "text": [
      "Keep up the good work ,Suman\n",
      "Keep up the good work ,Keerthi\n",
      "Keep up the good work ,Yasmeen\n",
      "Keep up the good work ,Ravi\n",
      "Keep up the good work ,John\n",
      "Keep up the good work ,Praveen\n",
      "Keep up the good work ,Sajid\n"
     ]
    }
   ],
   "source": [
    "for x in students:\n",
    "    print(f\"Keep up the good work ,{x.title()}\")"
   ]
  },
  {
   "cell_type": "code",
   "execution_count": 11,
   "metadata": {},
   "outputs": [
    {
     "name": "stdout",
     "output_type": "stream",
     "text": [
      "Keep up the good work, suman\n",
      "I will be looking forward to receive all your practise of today, Suman.\n",
      "\n",
      "Keep up the good work, keerthi\n",
      "I will be looking forward to receive all your practise of today, Keerthi.\n",
      "\n",
      "Keep up the good work, yasmeen\n",
      "I will be looking forward to receive all your practise of today, Yasmeen.\n",
      "\n",
      "Keep up the good work, ravi\n",
      "I will be looking forward to receive all your practise of today, Ravi.\n",
      "\n",
      "Keep up the good work, john\n",
      "I will be looking forward to receive all your practise of today, John.\n",
      "\n",
      "Keep up the good work, praveen\n",
      "I will be looking forward to receive all your practise of today, Praveen.\n",
      "\n",
      "Keep up the good work, sajid\n",
      "I will be looking forward to receive all your practise of today, Sajid.\n",
      "\n"
     ]
    }
   ],
   "source": [
    "for x in students:\n",
    "    print(f\"Keep up the good work, {x}\")\n",
    "    print(f\"I will be looking forward to receive all your practise of today, {x.title()}.\\n\")"
   ]
  },
  {
   "cell_type": "code",
   "execution_count": 12,
   "metadata": {},
   "outputs": [
    {
     "name": "stdout",
     "output_type": "stream",
     "text": [
      "Keep up the good work ,suman\n",
      "I will be looking forward to receive all your practise of today, Suman\n",
      "Keep up the good work ,keerthi\n",
      "I will be looking forward to receive all your practise of today, Keerthi\n",
      "Keep up the good work ,yasmeen\n",
      "I will be looking forward to receive all your practise of today, Yasmeen\n",
      "Keep up the good work ,ravi\n",
      "I will be looking forward to receive all your practise of today, Ravi\n",
      "Keep up the good work ,john\n",
      "I will be looking forward to receive all your practise of today, John\n",
      "Keep up the good work ,praveen\n",
      "I will be looking forward to receive all your practise of today, Praveen\n",
      "Keep up the good work ,sajid\n",
      "I will be looking forward to receive all your practise of today, Sajid\n",
      "Thank you all for showing the intrest in learning python.\n"
     ]
    }
   ],
   "source": [
    "for x in students:\n",
    "    print(f\"Keep up the good work ,{x}\")\n",
    "    print(f\"I will be looking forward to receive all your practise of today, {x.title()}\")\n",
    "print('Thank you all for showing the intrest in learning python.')"
   ]
  },
  {
   "cell_type": "code",
   "execution_count": 13,
   "metadata": {},
   "outputs": [
    {
     "name": "stdout",
     "output_type": "stream",
     "text": [
      "['suman', 'keerthi', 'yasmeen', 'ravi', 'john', 'praveen', 'sajid']\n"
     ]
    }
   ],
   "source": [
    "print(students)"
   ]
  },
  {
   "cell_type": "code",
   "execution_count": 14,
   "metadata": {},
   "outputs": [
    {
     "name": "stdout",
     "output_type": "stream",
     "text": [
      "['john', 'keerthi', 'praveen', 'ravi', 'sajid', 'suman', 'yasmeen']\n",
      "['john', 'keerthi', 'praveen', 'ravi', 'sajid', 'suman', 'yasmeen']\n"
     ]
    }
   ],
   "source": [
    "print(sorted(students))\n",
    "students.sort()\n",
    "print(students)"
   ]
  },
  {
   "cell_type": "code",
   "execution_count": 17,
   "metadata": {},
   "outputs": [
    {
     "name": "stdout",
     "output_type": "stream",
     "text": [
      "['john', 'keerthi', 'praveen', 'ravi', 'sajid', 'suman', 'yasmeen']\n"
     ]
    }
   ],
   "source": [
    "print(students)"
   ]
  },
  {
   "cell_type": "code",
   "execution_count": null,
   "metadata": {},
   "outputs": [],
   "source": []
  }
 ],
 "metadata": {
  "kernelspec": {
   "display_name": "Python 3",
   "language": "python",
   "name": "python3"
  },
  "language_info": {
   "codemirror_mode": {
    "name": "ipython",
    "version": 3
   },
   "file_extension": ".py",
   "mimetype": "text/x-python",
   "name": "python",
   "nbconvert_exporter": "python",
   "pygments_lexer": "ipython3",
   "version": "3.7.6"
  }
 },
 "nbformat": 4,
 "nbformat_minor": 4
}
