{
 "cells": [
  {
   "cell_type": "code",
   "execution_count": 1,
   "metadata": {},
   "outputs": [],
   "source": [
    "#continuation on dictionaries:"
   ]
  },
  {
   "cell_type": "code",
   "execution_count": 2,
   "metadata": {},
   "outputs": [],
   "source": [
    "alien = {'color':'green','points':5,'start_position':0,'current_position':10}"
   ]
  },
  {
   "cell_type": "code",
   "execution_count": 3,
   "metadata": {},
   "outputs": [],
   "source": [
    "alien['color'] = 'yellow'"
   ]
  },
  {
   "cell_type": "code",
   "execution_count": 4,
   "metadata": {},
   "outputs": [],
   "source": [
    "alien['points'] = 10"
   ]
  },
  {
   "cell_type": "code",
   "execution_count": 5,
   "metadata": {},
   "outputs": [
    {
     "name": "stdout",
     "output_type": "stream",
     "text": [
      "{'color': 'yellow', 'points': 10, 'start_position': 0, 'current_position': 10}\n"
     ]
    }
   ],
   "source": [
    "print(alien)"
   ]
  },
  {
   "cell_type": "code",
   "execution_count": 6,
   "metadata": {},
   "outputs": [],
   "source": [
    "#deleting the key value pairs from the dictionary:"
   ]
  },
  {
   "cell_type": "code",
   "execution_count": 7,
   "metadata": {},
   "outputs": [],
   "source": [
    "del alien['start_position']"
   ]
  },
  {
   "cell_type": "code",
   "execution_count": 8,
   "metadata": {},
   "outputs": [
    {
     "name": "stdout",
     "output_type": "stream",
     "text": [
      "{'color': 'yellow', 'points': 10, 'current_position': 10}\n"
     ]
    }
   ],
   "source": [
    "print(alien)"
   ]
  },
  {
   "cell_type": "code",
   "execution_count": 9,
   "metadata": {},
   "outputs": [],
   "source": [
    "fav_languages = {'samreen':'python','ram':'c','suresh':'sceince','janani':'node','sajid':'python',}"
   ]
  },
  {
   "cell_type": "code",
   "execution_count": 11,
   "metadata": {},
   "outputs": [
    {
     "name": "stdout",
     "output_type": "stream",
     "text": [
      "key: samreen\n",
      "Value: python\n",
      "\n",
      "key: ram\n",
      "Value: c\n",
      "\n",
      "key: suresh\n",
      "Value: sceince\n",
      "\n",
      "key: janani\n",
      "Value: node\n",
      "\n",
      "key: sajid\n",
      "Value: python\n",
      "\n"
     ]
    }
   ],
   "source": [
    "for x,y in fav_languages.items():\n",
    "\tprint(f\"key: {x}\")\n",
    "\tprint(f\"Value: {y}\\n\")"
   ]
  },
  {
   "cell_type": "code",
   "execution_count": 12,
   "metadata": {},
   "outputs": [
    {
     "name": "stdout",
     "output_type": "stream",
     "text": [
      "\n",
      "students: samreen\n",
      "\n",
      "students: ram\n",
      "\n",
      "students: suresh\n",
      "\n",
      "students: janani\n",
      "\n",
      "students: sajid\n"
     ]
    }
   ],
   "source": [
    "# I want to know who all lthe students have taken the survey? i want only keys.\n",
    "for x in fav_languages.keys():\n",
    "\tprint(f\"\\nstudents: {x}\")"
   ]
  },
  {
   "cell_type": "code",
   "execution_count": 13,
   "metadata": {},
   "outputs": [
    {
     "name": "stdout",
     "output_type": "stream",
     "text": [
      "\n",
      "Choices: python\n",
      "\n",
      "Choices: c\n",
      "\n",
      "Choices: sceince\n",
      "\n",
      "Choices: node\n",
      "\n",
      "Choices: python\n"
     ]
    }
   ],
   "source": [
    "# I want to know only the values.\n",
    "for y in fav_languages.values():\n",
    "\tprint(f\"\\nChoices: {y}\")"
   ]
  },
  {
   "cell_type": "code",
   "execution_count": null,
   "metadata": {},
   "outputs": [],
   "source": []
  }
 ],
 "metadata": {
  "kernelspec": {
   "display_name": "Python 3",
   "language": "python",
   "name": "python3"
  },
  "language_info": {
   "codemirror_mode": {
    "name": "ipython",
    "version": 3
   },
   "file_extension": ".py",
   "mimetype": "text/x-python",
   "name": "python",
   "nbconvert_exporter": "python",
   "pygments_lexer": "ipython3",
   "version": "3.7.6"
  }
 },
 "nbformat": 4,
 "nbformat_minor": 4
}
